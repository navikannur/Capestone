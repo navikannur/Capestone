{
 "cells": [
  {
   "cell_type": "markdown",
   "metadata": {
    "collapsed": true
   },
   "source": [
    "<h1 align=center> <font size = 5> Segmenting and Clustering Neighborhoods in Toronto </font></h1>"
   ]
  },
  {
   "cell_type": "markdown",
   "metadata": {},
   "source": [
    "<h3 align = center> Navaneeth's Capestone project - Webscrap , Data preparation , segmenting and clustering </h3>"
   ]
  },
  {
   "cell_type": "markdown",
   "metadata": {},
   "source": [
    "This Notebook contains the process to webscrape the following Wikipedia page, https://en.wikipedia.org/wiki/List_of_postal_codes_of_Canada:_M, and clean the data for further processing. Let see the steps inorder to obtain the data that is in the table of postal codes and to transform the data into a pandas dataframe.The dataframe will consist of three columns: PostalCode, Borough, and Neighborhood. Only process the cells that have an assigned borough. Ignore cells with a borough that is Not assigned.More than one neighborhood can exist in one postal code area. These two rows will be combined into one row with the neighborhoods separated with a comma.If a cell has a borough but a Not assigned neighborhood, then the neighborhood will be the same as the borough. Get the final size which is the number of rows and columns of the cleansed dataframe."
   ]
  },
  {
   "cell_type": "markdown",
   "metadata": {},
   "source": [
    "## 1 . Webscrapping the data from wikipedia webpage"
   ]
  },
  {
   "cell_type": "markdown",
   "metadata": {},
   "source": [
    "Import all the required libraries for webscrapping and data frames"
   ]
  },
  {
   "cell_type": "code",
   "execution_count": 2,
   "metadata": {},
   "outputs": [],
   "source": [
    "#importing the beautifulSoup and requests\n",
    "import requests, re\n",
    "from bs4 import BeautifulSoup\n",
    "\n",
    "# imporing pandas for dataframes\n",
    "import pandas as pd"
   ]
  },
  {
   "cell_type": "markdown",
   "metadata": {},
   "source": [
    "Get the target url and try"
   ]
  },
  {
   "cell_type": "code",
   "execution_count": 3,
   "metadata": {},
   "outputs": [],
   "source": [
    "#getting the target scrape page\n",
    "\n",
    "reqs_wiki=requests.get(\"https://en.wikipedia.org/wiki/List_of_postal_codes_of_Canada:_M\")\n",
    "cont_wiki=reqs_wiki.content"
   ]
  },
  {
   "cell_type": "markdown",
   "metadata": {},
   "source": [
    "Identified that the html section is with a class \"mw-parser-output\". scrap the section to a dictionary called all tab."
   ]
  },
  {
   "cell_type": "code",
   "execution_count": 4,
   "metadata": {
    "scrolled": true
   },
   "outputs": [],
   "source": [
    "# table class = wikitable sortable jquery-tablesorter\n",
    "Bsoup=BeautifulSoup(cont_wiki,\"html.parser\")\n",
    "all_tab=Bsoup.find_all(\"div\",{\"class\":\"mw-parser-output\"})\n",
    "all_tab = {}\n",
    "for k, body in enumerate(Bsoup.findAll('tbody')):\n",
    "    all_tab['table' + str(k)] = []\n",
    "    for tr in body.find_all('tr'):\n",
    "        tmp = tuple()\n",
    "        th = tr.find('th')\n",
    "        if th:\n",
    "            th = tr.find('th').text.strip()\n",
    "            tmp += (th,)\n",
    "        for td in tr.find_all('td'):\n",
    "            tmp += (td.text.strip(),)\n",
    "        all_tab['table' + str(k)].append(tmp)"
   ]
  },
  {
   "cell_type": "markdown",
   "metadata": {},
   "source": [
    "Out of the tables extracted, extract only the first table to a dataframe"
   ]
  },
  {
   "cell_type": "code",
   "execution_count": 5,
   "metadata": {},
   "outputs": [],
   "source": [
    "data_full = pd.DataFrame.from_dict(all_tab['table0'])"
   ]
  },
  {
   "cell_type": "markdown",
   "metadata": {},
   "source": [
    "## 2. Data Cleaning "
   ]
  },
  {
   "cell_type": "markdown",
   "metadata": {},
   "source": [
    "Clean the data , Remove or replace uncessary fields/records. Provide necessary coloumn names"
   ]
  },
  {
   "cell_type": "code",
   "execution_count": 6,
   "metadata": {},
   "outputs": [
    {
     "data": {
      "text/html": [
       "<div>\n",
       "<style scoped>\n",
       "    .dataframe tbody tr th:only-of-type {\n",
       "        vertical-align: middle;\n",
       "    }\n",
       "\n",
       "    .dataframe tbody tr th {\n",
       "        vertical-align: top;\n",
       "    }\n",
       "\n",
       "    .dataframe thead th {\n",
       "        text-align: right;\n",
       "    }\n",
       "</style>\n",
       "<table border=\"1\" class=\"dataframe\">\n",
       "  <thead>\n",
       "    <tr style=\"text-align: right;\">\n",
       "      <th></th>\n",
       "      <th>Borough</th>\n",
       "      <th>Neighbourhood</th>\n",
       "    </tr>\n",
       "    <tr>\n",
       "      <th>Postcode</th>\n",
       "      <th></th>\n",
       "      <th></th>\n",
       "    </tr>\n",
       "  </thead>\n",
       "  <tbody>\n",
       "    <tr>\n",
       "      <th>M1A</th>\n",
       "      <td>Not assigned</td>\n",
       "      <td>Not assigned</td>\n",
       "    </tr>\n",
       "    <tr>\n",
       "      <th>M2A</th>\n",
       "      <td>Not assigned</td>\n",
       "      <td>Not assigned</td>\n",
       "    </tr>\n",
       "    <tr>\n",
       "      <th>M3A</th>\n",
       "      <td>North York</td>\n",
       "      <td>Parkwoods</td>\n",
       "    </tr>\n",
       "    <tr>\n",
       "      <th>M4A</th>\n",
       "      <td>North York</td>\n",
       "      <td>Victoria Village</td>\n",
       "    </tr>\n",
       "    <tr>\n",
       "      <th>M5A</th>\n",
       "      <td>Downtown Toronto</td>\n",
       "      <td>Harbourfront</td>\n",
       "    </tr>\n",
       "  </tbody>\n",
       "</table>\n",
       "</div>"
      ],
      "text/plain": [
       "                   Borough     Neighbourhood\n",
       "Postcode                                    \n",
       "M1A           Not assigned      Not assigned\n",
       "M2A           Not assigned      Not assigned\n",
       "M3A             North York         Parkwoods\n",
       "M4A             North York  Victoria Village\n",
       "M5A       Downtown Toronto      Harbourfront"
      ]
     },
     "execution_count": 6,
     "metadata": {},
     "output_type": "execute_result"
    }
   ],
   "source": [
    "# Renaming the columns - Postcode\tBorough\tNeighbourhood\n",
    "data_full.columns = ['Postcode','Borough','Neighbourhood']\n",
    "data_full.set_index('Postcode', inplace=True)\n",
    "data_full = data_full.iloc[1:,]\n",
    "data_full.head()"
   ]
  },
  {
   "cell_type": "markdown",
   "metadata": {},
   "source": [
    "Noticed that few fileds under Borough are not assigned. Hence we Remove all the Borough which are holding the value <b> \"Not assigned\" </b>"
   ]
  },
  {
   "cell_type": "code",
   "execution_count": 7,
   "metadata": {
    "scrolled": true
   },
   "outputs": [
    {
     "data": {
      "text/html": [
       "<div>\n",
       "<style scoped>\n",
       "    .dataframe tbody tr th:only-of-type {\n",
       "        vertical-align: middle;\n",
       "    }\n",
       "\n",
       "    .dataframe tbody tr th {\n",
       "        vertical-align: top;\n",
       "    }\n",
       "\n",
       "    .dataframe thead th {\n",
       "        text-align: right;\n",
       "    }\n",
       "</style>\n",
       "<table border=\"1\" class=\"dataframe\">\n",
       "  <thead>\n",
       "    <tr style=\"text-align: right;\">\n",
       "      <th></th>\n",
       "      <th>Postcode</th>\n",
       "      <th>Borough</th>\n",
       "      <th>Neighbourhood</th>\n",
       "    </tr>\n",
       "  </thead>\n",
       "  <tbody>\n",
       "    <tr>\n",
       "      <th>0</th>\n",
       "      <td>M3A</td>\n",
       "      <td>North York</td>\n",
       "      <td>Parkwoods</td>\n",
       "    </tr>\n",
       "    <tr>\n",
       "      <th>1</th>\n",
       "      <td>M4A</td>\n",
       "      <td>North York</td>\n",
       "      <td>Victoria Village</td>\n",
       "    </tr>\n",
       "    <tr>\n",
       "      <th>2</th>\n",
       "      <td>M5A</td>\n",
       "      <td>Downtown Toronto</td>\n",
       "      <td>Harbourfront</td>\n",
       "    </tr>\n",
       "    <tr>\n",
       "      <th>3</th>\n",
       "      <td>M5A</td>\n",
       "      <td>Downtown Toronto</td>\n",
       "      <td>Regent Park</td>\n",
       "    </tr>\n",
       "    <tr>\n",
       "      <th>4</th>\n",
       "      <td>M6A</td>\n",
       "      <td>North York</td>\n",
       "      <td>Lawrence Heights</td>\n",
       "    </tr>\n",
       "    <tr>\n",
       "      <th>5</th>\n",
       "      <td>M6A</td>\n",
       "      <td>North York</td>\n",
       "      <td>Lawrence Manor</td>\n",
       "    </tr>\n",
       "    <tr>\n",
       "      <th>6</th>\n",
       "      <td>M7A</td>\n",
       "      <td>Queen's Park</td>\n",
       "      <td>Not assigned</td>\n",
       "    </tr>\n",
       "    <tr>\n",
       "      <th>7</th>\n",
       "      <td>M9A</td>\n",
       "      <td>Etobicoke</td>\n",
       "      <td>Islington Avenue</td>\n",
       "    </tr>\n",
       "  </tbody>\n",
       "</table>\n",
       "</div>"
      ],
      "text/plain": [
       "  Postcode           Borough     Neighbourhood\n",
       "0      M3A        North York         Parkwoods\n",
       "1      M4A        North York  Victoria Village\n",
       "2      M5A  Downtown Toronto      Harbourfront\n",
       "3      M5A  Downtown Toronto       Regent Park\n",
       "4      M6A        North York  Lawrence Heights\n",
       "5      M6A        North York    Lawrence Manor\n",
       "6      M7A      Queen's Park      Not assigned\n",
       "7      M9A         Etobicoke  Islington Avenue"
      ]
     },
     "execution_count": 7,
     "metadata": {},
     "output_type": "execute_result"
    }
   ],
   "source": [
    "data_full = data_full[data_full.Borough != 'Not assigned']\n",
    "data_full.reset_index(inplace=True)\n",
    "data_full.head(8)"
   ]
  },
  {
   "cell_type": "markdown",
   "metadata": {},
   "source": [
    "Replace all the Neighbourhood which are <b> \"Not assigned\" </b> to the Borough values"
   ]
  },
  {
   "cell_type": "code",
   "execution_count": 8,
   "metadata": {},
   "outputs": [],
   "source": [
    "i = 1;\n",
    "for i, row in data_full.iterrows():    \n",
    "    if data_full['Neighbourhood'].values[i] == 'Not assigned':\n",
    "        data_full['Neighbourhood'].values[i] = data_full['Borough'].values[i]     "
   ]
  },
  {
   "cell_type": "markdown",
   "metadata": {},
   "source": [
    "Let's group the dataset according to the Postcode. Add the Neighbourhood field."
   ]
  },
  {
   "cell_type": "code",
   "execution_count": 9,
   "metadata": {},
   "outputs": [
    {
     "data": {
      "text/html": [
       "<div>\n",
       "<style scoped>\n",
       "    .dataframe tbody tr th:only-of-type {\n",
       "        vertical-align: middle;\n",
       "    }\n",
       "\n",
       "    .dataframe tbody tr th {\n",
       "        vertical-align: top;\n",
       "    }\n",
       "\n",
       "    .dataframe thead th {\n",
       "        text-align: right;\n",
       "    }\n",
       "</style>\n",
       "<table border=\"1\" class=\"dataframe\">\n",
       "  <thead>\n",
       "    <tr style=\"text-align: right;\">\n",
       "      <th></th>\n",
       "      <th>Postcode</th>\n",
       "      <th>Borough</th>\n",
       "      <th>Neighbourhood</th>\n",
       "    </tr>\n",
       "  </thead>\n",
       "  <tbody>\n",
       "    <tr>\n",
       "      <th>0</th>\n",
       "      <td>M1B</td>\n",
       "      <td>Scarborough</td>\n",
       "      <td>Rouge, Malvern</td>\n",
       "    </tr>\n",
       "    <tr>\n",
       "      <th>1</th>\n",
       "      <td>M1C</td>\n",
       "      <td>Scarborough</td>\n",
       "      <td>Highland Creek, Rouge Hill, Port Union</td>\n",
       "    </tr>\n",
       "    <tr>\n",
       "      <th>2</th>\n",
       "      <td>M1E</td>\n",
       "      <td>Scarborough</td>\n",
       "      <td>Guildwood, Morningside, West Hill</td>\n",
       "    </tr>\n",
       "    <tr>\n",
       "      <th>3</th>\n",
       "      <td>M1G</td>\n",
       "      <td>Scarborough</td>\n",
       "      <td>Woburn</td>\n",
       "    </tr>\n",
       "    <tr>\n",
       "      <th>4</th>\n",
       "      <td>M1H</td>\n",
       "      <td>Scarborough</td>\n",
       "      <td>Cedarbrae</td>\n",
       "    </tr>\n",
       "  </tbody>\n",
       "</table>\n",
       "</div>"
      ],
      "text/plain": [
       "  Postcode      Borough                           Neighbourhood\n",
       "0      M1B  Scarborough                          Rouge, Malvern\n",
       "1      M1C  Scarborough  Highland Creek, Rouge Hill, Port Union\n",
       "2      M1E  Scarborough       Guildwood, Morningside, West Hill\n",
       "3      M1G  Scarborough                                  Woburn\n",
       "4      M1H  Scarborough                               Cedarbrae"
      ]
     },
     "execution_count": 9,
     "metadata": {},
     "output_type": "execute_result"
    }
   ],
   "source": [
    "Series_stage2 = data_full.groupby(['Postcode','Borough'], as_index=True)['Neighbourhood'].apply(lambda x: \"%s\" % ', '.join(x))\n",
    "data_stage2 = Series_stage2.to_frame()\n",
    "data_stage2.reset_index(inplace=True)\n",
    "data_stage2.head()"
   ]
  },
  {
   "cell_type": "markdown",
   "metadata": {},
   "source": [
    "Now Let's check the size of the dataframe"
   ]
  },
  {
   "cell_type": "code",
   "execution_count": 10,
   "metadata": {},
   "outputs": [
    {
     "data": {
      "text/plain": [
       "(103, 3)"
      ]
     },
     "execution_count": 10,
     "metadata": {},
     "output_type": "execute_result"
    }
   ],
   "source": [
    "data_stage2.shape"
   ]
  },
  {
   "cell_type": "markdown",
   "metadata": {},
   "source": [
    "### 3. Joining the location cordinates "
   ]
  },
  {
   "cell_type": "markdown",
   "metadata": {},
   "source": [
    "The geocoder package is not working correctly, hence going for the alternate approach by using a csv file with location details. The file is available in the following path https://cocl.us/Geospatial_data. "
   ]
  },
  {
   "cell_type": "code",
   "execution_count": 11,
   "metadata": {},
   "outputs": [
    {
     "name": "stdout",
     "output_type": "stream",
     "text": [
      "--2019-05-09 07:13:14--  https://cocl.us/Geospatial_data\n",
      "Resolving cocl.us (cocl.us)... 169.48.113.201\n",
      "Connecting to cocl.us (cocl.us)|169.48.113.201|:443... connected.\n",
      "HTTP request sent, awaiting response... 301 Moved Permanently\n",
      "Location: https://ibm.box.com/shared/static/9afzr83pps4pwf2smjjcf1y5mvgb18rr.csv [following]\n",
      "--2019-05-09 07:13:15--  https://ibm.box.com/shared/static/9afzr83pps4pwf2smjjcf1y5mvgb18rr.csv\n",
      "Resolving ibm.box.com (ibm.box.com)... 107.152.27.197\n",
      "Connecting to ibm.box.com (ibm.box.com)|107.152.27.197|:443... connected.\n",
      "HTTP request sent, awaiting response... 301 Moved Permanently\n",
      "Location: /public/static/9afzr83pps4pwf2smjjcf1y5mvgb18rr.csv [following]\n",
      "--2019-05-09 07:13:15--  https://ibm.box.com/public/static/9afzr83pps4pwf2smjjcf1y5mvgb18rr.csv\n",
      "Reusing existing connection to ibm.box.com:443.\n",
      "HTTP request sent, awaiting response... 301 Moved Permanently\n",
      "Location: https://ibm.ent.box.com/public/static/9afzr83pps4pwf2smjjcf1y5mvgb18rr.csv [following]\n",
      "--2019-05-09 07:13:15--  https://ibm.ent.box.com/public/static/9afzr83pps4pwf2smjjcf1y5mvgb18rr.csv\n",
      "Resolving ibm.ent.box.com (ibm.ent.box.com)... 107.152.26.211\n",
      "Connecting to ibm.ent.box.com (ibm.ent.box.com)|107.152.26.211|:443... connected.\n",
      "HTTP request sent, awaiting response... 302 Found\n",
      "Location: https://public.boxcloud.com/d/1/b1!5Jaq_nYpmQ-B4mV2fCCANKjomEoVORP20ET4cAhpRweUgZVDllNv7gHg3_l_qLkkKOZiC2D6_IAgWdg8Aw7D4pAlZMrYsaYt_gGKN4N5QJCQ1S40GQ1l2Cao15MY0AGXTRZfDBA-yjz4ijKhTwRIcJP5ei_ZNhGEMfu7OK0BUhYxoLteSi-5BVbXd2QCUgdcsUMt3wcHQJa0pvoMtke_Yu3i53CT-uRkJ3ZDgMPO_0qNWf_KkLbzYoDG-M446vZGulAEm7owe8VR4L1hcsvWTQevgqegSyvPbd01jNp7RANf3CYs8x7MZcrPpykXIp12MdpwRfoJ1fbu8QGgQTgJRX9EFWFeHCnPap6GjD1a88V9x-P7rl6-uwFxjy4hdXAqJNrwxXVSA0ve0hcT9eRTh9_l8oFj61-1thGPwWjsh1mWgjF5jnOIsx9dN4N3zSLdBXBtZ9NlXdkFCIO8X9zh3ITyB9DojvLaFZMCe-GX7WLC8b102fnliYL5tOoJA-ozCiziBAzNE1H1HS40QXX44amIko5nxrcupyUwlKiwsF9T8CM8Mo2Ppqe8cprNuLUJjS-WAxTtv5WKNCN6G9LrYWPzDlbvZr7FKR-UtSQV7iblhHi_icNQzHjLSWMX4EF27_AWI8GHsseddIgNjg-FvM84X5ihSg-nxoouBTdCpgQ-86EDgBt3ykZPT8CtsXIoxwc8vJKOdMudWWjAjzNLWtajBySO3hJfAIim9pl4Odj8uqlAgfhW17i-WPeAkaLEajBINhemR4_nECNvhvy2dbLCV-M08lovuGJEJOs36YP72bRf9qBWmg6GUGucGLYAJOkwjzUcx2LjDcV1soE6bHuQn5eeMjQLeVU45f7vnU8YF0WoampXxWoQY6BMPJgXKG2GDQOyVDJU4fsCT-2tRO2lBdEdeCXRrFINSkXTnoTO3KPXSn13jX4Pt0PFktP5sF7xpwwSd7RfSDWHlUUJyaGznqULZWxFV3P3g12qySc9j_hDYFkhCIyKRaqQJmWExzFM0nc49Rd2K7kUnfFu-VMVbRzseJM-QFEyKmw0tpYX7r1LiNhUwPXUoX_cz2zDrGziFIKSdm-0XXfM0IqMFsjLkmWMyVGOo0HMgZnA6IoqgtFLqIY8e6k4VUL1K9rerLCuf6Ry9yTIPDW5YwwhnMzbl8zqNoThYuYLjlQtPP-9X3foQMT-LE2wVjRhrPs-AvUqg4E6M2PckBD5FVXfRUeosXVDuTUYqizhxszsJ4zzh3jcUTEwZKiQzZK-oqRYsqn5ehefuuPZKqyIqd7BdWt_b9wl7_3Voo9ufJTFi8-x0N3y2JQDC4fqFHHQ9bnLhWDZGM8vXD4F-rKks7-5NY7fkjmz7FCQW4yoqiQBDs7kPfHB5l0uVw../download [following]\n",
      "--2019-05-09 07:13:16--  https://public.boxcloud.com/d/1/b1!5Jaq_nYpmQ-B4mV2fCCANKjomEoVORP20ET4cAhpRweUgZVDllNv7gHg3_l_qLkkKOZiC2D6_IAgWdg8Aw7D4pAlZMrYsaYt_gGKN4N5QJCQ1S40GQ1l2Cao15MY0AGXTRZfDBA-yjz4ijKhTwRIcJP5ei_ZNhGEMfu7OK0BUhYxoLteSi-5BVbXd2QCUgdcsUMt3wcHQJa0pvoMtke_Yu3i53CT-uRkJ3ZDgMPO_0qNWf_KkLbzYoDG-M446vZGulAEm7owe8VR4L1hcsvWTQevgqegSyvPbd01jNp7RANf3CYs8x7MZcrPpykXIp12MdpwRfoJ1fbu8QGgQTgJRX9EFWFeHCnPap6GjD1a88V9x-P7rl6-uwFxjy4hdXAqJNrwxXVSA0ve0hcT9eRTh9_l8oFj61-1thGPwWjsh1mWgjF5jnOIsx9dN4N3zSLdBXBtZ9NlXdkFCIO8X9zh3ITyB9DojvLaFZMCe-GX7WLC8b102fnliYL5tOoJA-ozCiziBAzNE1H1HS40QXX44amIko5nxrcupyUwlKiwsF9T8CM8Mo2Ppqe8cprNuLUJjS-WAxTtv5WKNCN6G9LrYWPzDlbvZr7FKR-UtSQV7iblhHi_icNQzHjLSWMX4EF27_AWI8GHsseddIgNjg-FvM84X5ihSg-nxoouBTdCpgQ-86EDgBt3ykZPT8CtsXIoxwc8vJKOdMudWWjAjzNLWtajBySO3hJfAIim9pl4Odj8uqlAgfhW17i-WPeAkaLEajBINhemR4_nECNvhvy2dbLCV-M08lovuGJEJOs36YP72bRf9qBWmg6GUGucGLYAJOkwjzUcx2LjDcV1soE6bHuQn5eeMjQLeVU45f7vnU8YF0WoampXxWoQY6BMPJgXKG2GDQOyVDJU4fsCT-2tRO2lBdEdeCXRrFINSkXTnoTO3KPXSn13jX4Pt0PFktP5sF7xpwwSd7RfSDWHlUUJyaGznqULZWxFV3P3g12qySc9j_hDYFkhCIyKRaqQJmWExzFM0nc49Rd2K7kUnfFu-VMVbRzseJM-QFEyKmw0tpYX7r1LiNhUwPXUoX_cz2zDrGziFIKSdm-0XXfM0IqMFsjLkmWMyVGOo0HMgZnA6IoqgtFLqIY8e6k4VUL1K9rerLCuf6Ry9yTIPDW5YwwhnMzbl8zqNoThYuYLjlQtPP-9X3foQMT-LE2wVjRhrPs-AvUqg4E6M2PckBD5FVXfRUeosXVDuTUYqizhxszsJ4zzh3jcUTEwZKiQzZK-oqRYsqn5ehefuuPZKqyIqd7BdWt_b9wl7_3Voo9ufJTFi8-x0N3y2JQDC4fqFHHQ9bnLhWDZGM8vXD4F-rKks7-5NY7fkjmz7FCQW4yoqiQBDs7kPfHB5l0uVw../download\n",
      "Resolving public.boxcloud.com (public.boxcloud.com)... 107.152.26.200\n",
      "Connecting to public.boxcloud.com (public.boxcloud.com)|107.152.26.200|:443... connected.\n",
      "HTTP request sent, awaiting response... 200 OK\n",
      "Length: 2891 (2.8K) [text/csv]\n",
      "Saving to: ‘geo_data.csv’\n",
      "\n",
      "100%[======================================>] 2,891       --.-K/s   in 0s      \n",
      "\n",
      "2019-05-09 07:13:21 (438 MB/s) - ‘geo_data.csv’ saved [2891/2891]\n",
      "\n"
     ]
    }
   ],
   "source": [
    "!wget -O geo_data.csv https://cocl.us/Geospatial_data"
   ]
  },
  {
   "cell_type": "markdown",
   "metadata": {},
   "source": [
    "Now let's read the csv file to a data frame and set the index for the data frame"
   ]
  },
  {
   "cell_type": "code",
   "execution_count": 18,
   "metadata": {},
   "outputs": [
    {
     "data": {
      "text/html": [
       "<div>\n",
       "<style scoped>\n",
       "    .dataframe tbody tr th:only-of-type {\n",
       "        vertical-align: middle;\n",
       "    }\n",
       "\n",
       "    .dataframe tbody tr th {\n",
       "        vertical-align: top;\n",
       "    }\n",
       "\n",
       "    .dataframe thead th {\n",
       "        text-align: right;\n",
       "    }\n",
       "</style>\n",
       "<table border=\"1\" class=\"dataframe\">\n",
       "  <thead>\n",
       "    <tr style=\"text-align: right;\">\n",
       "      <th></th>\n",
       "      <th>Latitude</th>\n",
       "      <th>Longitude</th>\n",
       "    </tr>\n",
       "    <tr>\n",
       "      <th>Postal Code</th>\n",
       "      <th></th>\n",
       "      <th></th>\n",
       "    </tr>\n",
       "  </thead>\n",
       "  <tbody>\n",
       "    <tr>\n",
       "      <th>M1B</th>\n",
       "      <td>43.806686</td>\n",
       "      <td>-79.194353</td>\n",
       "    </tr>\n",
       "    <tr>\n",
       "      <th>M1C</th>\n",
       "      <td>43.784535</td>\n",
       "      <td>-79.160497</td>\n",
       "    </tr>\n",
       "    <tr>\n",
       "      <th>M1E</th>\n",
       "      <td>43.763573</td>\n",
       "      <td>-79.188711</td>\n",
       "    </tr>\n",
       "    <tr>\n",
       "      <th>M1G</th>\n",
       "      <td>43.770992</td>\n",
       "      <td>-79.216917</td>\n",
       "    </tr>\n",
       "    <tr>\n",
       "      <th>M1H</th>\n",
       "      <td>43.773136</td>\n",
       "      <td>-79.239476</td>\n",
       "    </tr>\n",
       "  </tbody>\n",
       "</table>\n",
       "</div>"
      ],
      "text/plain": [
       "              Latitude  Longitude\n",
       "Postal Code                      \n",
       "M1B          43.806686 -79.194353\n",
       "M1C          43.784535 -79.160497\n",
       "M1E          43.763573 -79.188711\n",
       "M1G          43.770992 -79.216917\n",
       "M1H          43.773136 -79.239476"
      ]
     },
     "execution_count": 18,
     "metadata": {},
     "output_type": "execute_result"
    }
   ],
   "source": [
    "df_geo = pd.read_csv('geo_data.csv')\n",
    "df_geo.set_index(\"Postal Code\",inplace=True)\n",
    "df_geo.head()"
   ]
  },
  {
   "cell_type": "markdown",
   "metadata": {},
   "source": [
    "Joining the dataframes together based on the indexes."
   ]
  },
  {
   "cell_type": "code",
   "execution_count": 14,
   "metadata": {},
   "outputs": [],
   "source": [
    "data_stage2.set_index(\"Postcode\",inplace=True)\n",
    "result = pd.concat([data_stage2, df_geo], axis=1, join_axes=[data_stage2.index])"
   ]
  },
  {
   "cell_type": "code",
   "execution_count": 15,
   "metadata": {},
   "outputs": [],
   "source": [
    "result.reset_index(inplace=True)"
   ]
  },
  {
   "cell_type": "code",
   "execution_count": 16,
   "metadata": {},
   "outputs": [
    {
     "data": {
      "text/html": [
       "<div>\n",
       "<style scoped>\n",
       "    .dataframe tbody tr th:only-of-type {\n",
       "        vertical-align: middle;\n",
       "    }\n",
       "\n",
       "    .dataframe tbody tr th {\n",
       "        vertical-align: top;\n",
       "    }\n",
       "\n",
       "    .dataframe thead th {\n",
       "        text-align: right;\n",
       "    }\n",
       "</style>\n",
       "<table border=\"1\" class=\"dataframe\">\n",
       "  <thead>\n",
       "    <tr style=\"text-align: right;\">\n",
       "      <th></th>\n",
       "      <th>Postcode</th>\n",
       "      <th>Borough</th>\n",
       "      <th>Neighbourhood</th>\n",
       "      <th>Latitude</th>\n",
       "      <th>Longitude</th>\n",
       "    </tr>\n",
       "  </thead>\n",
       "  <tbody>\n",
       "    <tr>\n",
       "      <th>0</th>\n",
       "      <td>M1B</td>\n",
       "      <td>Scarborough</td>\n",
       "      <td>Rouge, Malvern</td>\n",
       "      <td>43.806686</td>\n",
       "      <td>-79.194353</td>\n",
       "    </tr>\n",
       "    <tr>\n",
       "      <th>1</th>\n",
       "      <td>M1C</td>\n",
       "      <td>Scarborough</td>\n",
       "      <td>Highland Creek, Rouge Hill, Port Union</td>\n",
       "      <td>43.784535</td>\n",
       "      <td>-79.160497</td>\n",
       "    </tr>\n",
       "    <tr>\n",
       "      <th>2</th>\n",
       "      <td>M1E</td>\n",
       "      <td>Scarborough</td>\n",
       "      <td>Guildwood, Morningside, West Hill</td>\n",
       "      <td>43.763573</td>\n",
       "      <td>-79.188711</td>\n",
       "    </tr>\n",
       "    <tr>\n",
       "      <th>3</th>\n",
       "      <td>M1G</td>\n",
       "      <td>Scarborough</td>\n",
       "      <td>Woburn</td>\n",
       "      <td>43.770992</td>\n",
       "      <td>-79.216917</td>\n",
       "    </tr>\n",
       "    <tr>\n",
       "      <th>4</th>\n",
       "      <td>M1H</td>\n",
       "      <td>Scarborough</td>\n",
       "      <td>Cedarbrae</td>\n",
       "      <td>43.773136</td>\n",
       "      <td>-79.239476</td>\n",
       "    </tr>\n",
       "  </tbody>\n",
       "</table>\n",
       "</div>"
      ],
      "text/plain": [
       "  Postcode      Borough                           Neighbourhood   Latitude  \\\n",
       "0      M1B  Scarborough                          Rouge, Malvern  43.806686   \n",
       "1      M1C  Scarborough  Highland Creek, Rouge Hill, Port Union  43.784535   \n",
       "2      M1E  Scarborough       Guildwood, Morningside, West Hill  43.763573   \n",
       "3      M1G  Scarborough                                  Woburn  43.770992   \n",
       "4      M1H  Scarborough                               Cedarbrae  43.773136   \n",
       "\n",
       "   Longitude  \n",
       "0 -79.194353  \n",
       "1 -79.160497  \n",
       "2 -79.188711  \n",
       "3 -79.216917  \n",
       "4 -79.239476  "
      ]
     },
     "execution_count": 16,
     "metadata": {},
     "output_type": "execute_result"
    }
   ],
   "source": [
    "result.head()"
   ]
  },
  {
   "cell_type": "markdown",
   "metadata": {},
   "source": [
    "### 4. Visualization of the data on the maps"
   ]
  },
  {
   "cell_type": "markdown",
   "metadata": {},
   "source": [
    "In this section we create map of Torornto using latitude and longitude values. We also add markers to map. For this lets first install the folium package and the geocoder package to get the toronto geo cordinates"
   ]
  },
  {
   "cell_type": "code",
   "execution_count": 20,
   "metadata": {
    "scrolled": true
   },
   "outputs": [
    {
     "name": "stdout",
     "output_type": "stream",
     "text": [
      "Solving environment: done\n",
      "\n",
      "## Package Plan ##\n",
      "\n",
      "  environment location: /opt/conda/envs/DSX-Python35\n",
      "\n",
      "  added / updated specs: \n",
      "    - folium=0.5.0\n",
      "\n",
      "\n",
      "The following packages will be downloaded:\n",
      "\n",
      "    package                    |            build\n",
      "    ---------------------------|-----------------\n",
      "    folium-0.5.0               |             py_0          45 KB  conda-forge\n",
      "    openssl-1.0.2r             |       h14c3975_0         3.1 MB  conda-forge\n",
      "    ca-certificates-2019.3.9   |       hecc5488_0         146 KB  conda-forge\n",
      "    altair-2.2.2               |           py35_1         462 KB  conda-forge\n",
      "    certifi-2018.8.24          |        py35_1001         139 KB  conda-forge\n",
      "    branca-0.3.1               |             py_0          25 KB  conda-forge\n",
      "    vincent-0.4.4              |             py_1          28 KB  conda-forge\n",
      "    ------------------------------------------------------------\n",
      "                                           Total:         4.0 MB\n",
      "\n",
      "The following NEW packages will be INSTALLED:\n",
      "\n",
      "    altair:          2.2.2-py35_1      conda-forge\n",
      "    branca:          0.3.1-py_0        conda-forge\n",
      "    folium:          0.5.0-py_0        conda-forge\n",
      "    vincent:         0.4.4-py_1        conda-forge\n",
      "\n",
      "The following packages will be UPDATED:\n",
      "\n",
      "    ca-certificates: 2019.1.23-0                   --> 2019.3.9-hecc5488_0 conda-forge\n",
      "    certifi:         2018.8.24-py35_1              --> 2018.8.24-py35_1001 conda-forge\n",
      "    openssl:         1.0.2p-h14c3975_0             --> 1.0.2r-h14c3975_0   conda-forge\n",
      "\n",
      "\n",
      "Downloading and Extracting Packages\n",
      "folium-0.5.0         | 45 KB     | ##################################### | 100% \n",
      "openssl-1.0.2r       | 3.1 MB    | ##################################### | 100% \n",
      "ca-certificates-2019 | 146 KB    | ##################################### | 100% \n",
      "altair-2.2.2         | 462 KB    | ##################################### | 100% \n",
      "certifi-2018.8.24    | 139 KB    | ##################################### | 100% \n",
      "branca-0.3.1         | 25 KB     | ##################################### | 100% \n",
      "vincent-0.4.4        | 28 KB     | ##################################### | 100% \n",
      "Preparing transaction: done\n",
      "Verifying transaction: done\n",
      "Executing transaction: done\n"
     ]
    }
   ],
   "source": [
    "!conda install -c conda-forge folium=0.5.0 --yes\n",
    "!conda config --add channels conda-forge\n",
    "!conda install geocoder"
   ]
  },
  {
   "cell_type": "markdown",
   "metadata": {},
   "source": [
    "importing the pacakges folium for maps and Nominatim for the geo locations"
   ]
  },
  {
   "cell_type": "code",
   "execution_count": 26,
   "metadata": {
    "scrolled": true
   },
   "outputs": [],
   "source": [
    "import folium\n",
    "from geopy.geocoders import Nominatim"
   ]
  },
  {
   "cell_type": "markdown",
   "metadata": {},
   "source": [
    "Lets use the geopy library to get the latitude and longitude values of Toronto.In order to define an instance of the geocoder, we need to define a user_agent. We will name our agent toronto_explorer."
   ]
  },
  {
   "cell_type": "code",
   "execution_count": 42,
   "metadata": {},
   "outputs": [],
   "source": [
    "address = 'Toronto, Canada'\n",
    "geolocator = Nominatim(user_agent=\"toronto_explorer\")\n",
    "location = geolocator.geocode(address)\n",
    "tor_latitude = location.latitude\n",
    "tor_longitude = location.longitude"
   ]
  },
  {
   "cell_type": "markdown",
   "metadata": {},
   "source": [
    "Now with the folium package we can iterate through the data set to create markers on the map. We can also give some markers about Neighbourhood on the maps."
   ]
  },
  {
   "cell_type": "code",
   "execution_count": 49,
   "metadata": {},
   "outputs": [
    {
     "data": {
      "text/html": [
       "<div style=\"width:100%;\"><div style=\"position:relative;width:100%;height:0;padding-bottom:60%;\"><iframe src=\"data:text/html;charset=utf-8;base64,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\" style=\"position:absolute;width:100%;height:100%;left:0;top:0;border:none !important;\" allowfullscreen webkitallowfullscreen mozallowfullscreen></iframe></div></div>"
      ],
      "text/plain": [
       "<folium.folium.Map at 0x7f93d8a77320>"
      ]
     },
     "execution_count": 49,
     "metadata": {},
     "output_type": "execute_result"
    }
   ],
   "source": [
    "latitude = tor_latitude\n",
    "longitude = tor_longitude\n",
    "\n",
    "map_toronto = folium.Map(location=[latitude, longitude], zoom_start=10)\n",
    "\n",
    "# add markers to map\n",
    "for lat, lng, Borough, Neighbourhood in zip(result['Latitude'], result['Longitude'], result['Borough'], result['Neighbourhood']):\n",
    "    label = '{}, {}'.format(Neighbourhood, Borough)\n",
    "    label = folium.Popup(label, parse_html=True)\n",
    "    folium.CircleMarker(\n",
    "        [lat, lng],        \n",
    "        radius=5,\n",
    "        popup=label,\n",
    "        color='blue',\n",
    "        fill=True,\n",
    "        fill_color='#3186cc',\n",
    "        fill_opacity=0.7,\n",
    "        parse_html=False).add_to(map_toronto)  \n",
    "    \n",
    "map_toronto"
   ]
  },
  {
   "cell_type": "code",
   "execution_count": null,
   "metadata": {},
   "outputs": [],
   "source": []
  }
 ],
 "metadata": {
  "kernelspec": {
   "display_name": "Python 3.5",
   "language": "python",
   "name": "python3"
  },
  "language_info": {
   "codemirror_mode": {
    "name": "ipython",
    "version": 3
   },
   "file_extension": ".py",
   "mimetype": "text/x-python",
   "name": "python",
   "nbconvert_exporter": "python",
   "pygments_lexer": "ipython3",
   "version": "3.5.5"
  }
 },
 "nbformat": 4,
 "nbformat_minor": 1
}
