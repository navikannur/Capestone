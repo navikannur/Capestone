{
 "cells": [
  {
   "cell_type": "markdown",
   "metadata": {
    "collapsed": true
   },
   "source": [
    "<h1 align=center> <font size = 5> Segmenting and Clustering Neighborhoods in Toronto </font></h1>"
   ]
  },
  {
   "cell_type": "markdown",
   "metadata": {},
   "source": [
    "<h3 align = center> Navaneeth's Capestone project - Webscrap , Data preparation , segmenting and clustering </h3>"
   ]
  },
  {
   "cell_type": "markdown",
   "metadata": {},
   "source": [
    "This Notebook contains the process to webscrape the following Wikipedia page, https://en.wikipedia.org/wiki/List_of_postal_codes_of_Canada:_M, and clean the data for further processing. Let see the steps inorder to obtain the data that is in the table of postal codes and to transform the data into a pandas dataframe.The dataframe will consist of three columns: PostalCode, Borough, and Neighborhood. Only process the cells that have an assigned borough. Ignore cells with a borough that is Not assigned.More than one neighborhood can exist in one postal code area. These two rows will be combined into one row with the neighborhoods separated with a comma.If a cell has a borough but a Not assigned neighborhood, then the neighborhood will be the same as the borough. Get the final size which is the number of rows and columns of the cleansed dataframe."
   ]
  },
  {
   "cell_type": "markdown",
   "metadata": {},
   "source": [
    "## 1 . Webscrapping the data from wikipedia webpage"
   ]
  },
  {
   "cell_type": "markdown",
   "metadata": {},
   "source": [
    "Import all the required libraries for webscrapping and data frames"
   ]
  },
  {
   "cell_type": "code",
   "execution_count": 2,
   "metadata": {},
   "outputs": [],
   "source": [
    "#importing the beautifulSoup and requests\n",
    "import requests, re\n",
    "from bs4 import BeautifulSoup\n",
    "\n",
    "# imporing pandas for dataframes\n",
    "import pandas as pd"
   ]
  },
  {
   "cell_type": "markdown",
   "metadata": {},
   "source": [
    "Get the target url and try"
   ]
  },
  {
   "cell_type": "code",
   "execution_count": 3,
   "metadata": {},
   "outputs": [],
   "source": [
    "#getting the target scrape page\n",
    "\n",
    "reqs_wiki=requests.get(\"https://en.wikipedia.org/wiki/List_of_postal_codes_of_Canada:_M\")\n",
    "cont_wiki=reqs_wiki.content"
   ]
  },
  {
   "cell_type": "markdown",
   "metadata": {},
   "source": [
    "Identified that the html section is with a class \"mw-parser-output\". scrap the section to a dictionary called all tab."
   ]
  },
  {
   "cell_type": "code",
   "execution_count": 4,
   "metadata": {
    "scrolled": true
   },
   "outputs": [],
   "source": [
    "# table class = wikitable sortable jquery-tablesorter\n",
    "Bsoup=BeautifulSoup(cont_wiki,\"html.parser\")\n",
    "all_tab=Bsoup.find_all(\"div\",{\"class\":\"mw-parser-output\"})\n",
    "all_tab = {}\n",
    "for k, body in enumerate(Bsoup.findAll('tbody')):\n",
    "    all_tab['table' + str(k)] = []\n",
    "    for tr in body.find_all('tr'):\n",
    "        tmp = tuple()\n",
    "        th = tr.find('th')\n",
    "        if th:\n",
    "            th = tr.find('th').text.strip()\n",
    "            tmp += (th,)\n",
    "        for td in tr.find_all('td'):\n",
    "            tmp += (td.text.strip(),)\n",
    "        all_tab['table' + str(k)].append(tmp)"
   ]
  },
  {
   "cell_type": "markdown",
   "metadata": {},
   "source": [
    "Out of the tables extracted, extract only the first table to a dataframe"
   ]
  },
  {
   "cell_type": "code",
   "execution_count": 5,
   "metadata": {},
   "outputs": [],
   "source": [
    "data_full = pd.DataFrame.from_dict(all_tab['table0'])"
   ]
  },
  {
   "cell_type": "markdown",
   "metadata": {},
   "source": [
    "## 2. Data Cleaning "
   ]
  },
  {
   "cell_type": "markdown",
   "metadata": {},
   "source": [
    "Clean the data , Remove or replace uncessary fields/records. Provide necessary coloumn names"
   ]
  },
  {
   "cell_type": "code",
   "execution_count": 6,
   "metadata": {},
   "outputs": [
    {
     "data": {
      "text/html": [
       "<div>\n",
       "<style scoped>\n",
       "    .dataframe tbody tr th:only-of-type {\n",
       "        vertical-align: middle;\n",
       "    }\n",
       "\n",
       "    .dataframe tbody tr th {\n",
       "        vertical-align: top;\n",
       "    }\n",
       "\n",
       "    .dataframe thead th {\n",
       "        text-align: right;\n",
       "    }\n",
       "</style>\n",
       "<table border=\"1\" class=\"dataframe\">\n",
       "  <thead>\n",
       "    <tr style=\"text-align: right;\">\n",
       "      <th></th>\n",
       "      <th>Borough</th>\n",
       "      <th>Neighbourhood</th>\n",
       "    </tr>\n",
       "    <tr>\n",
       "      <th>Postcode</th>\n",
       "      <th></th>\n",
       "      <th></th>\n",
       "    </tr>\n",
       "  </thead>\n",
       "  <tbody>\n",
       "    <tr>\n",
       "      <th>M1A</th>\n",
       "      <td>Not assigned</td>\n",
       "      <td>Not assigned</td>\n",
       "    </tr>\n",
       "    <tr>\n",
       "      <th>M2A</th>\n",
       "      <td>Not assigned</td>\n",
       "      <td>Not assigned</td>\n",
       "    </tr>\n",
       "    <tr>\n",
       "      <th>M3A</th>\n",
       "      <td>North York</td>\n",
       "      <td>Parkwoods</td>\n",
       "    </tr>\n",
       "    <tr>\n",
       "      <th>M4A</th>\n",
       "      <td>North York</td>\n",
       "      <td>Victoria Village</td>\n",
       "    </tr>\n",
       "    <tr>\n",
       "      <th>M5A</th>\n",
       "      <td>Downtown Toronto</td>\n",
       "      <td>Harbourfront</td>\n",
       "    </tr>\n",
       "  </tbody>\n",
       "</table>\n",
       "</div>"
      ],
      "text/plain": [
       "                   Borough     Neighbourhood\n",
       "Postcode                                    \n",
       "M1A           Not assigned      Not assigned\n",
       "M2A           Not assigned      Not assigned\n",
       "M3A             North York         Parkwoods\n",
       "M4A             North York  Victoria Village\n",
       "M5A       Downtown Toronto      Harbourfront"
      ]
     },
     "execution_count": 6,
     "metadata": {},
     "output_type": "execute_result"
    }
   ],
   "source": [
    "# Renaming the columns - Postcode\tBorough\tNeighbourhood\n",
    "data_full.columns = ['Postcode','Borough','Neighbourhood']\n",
    "data_full.set_index('Postcode', inplace=True)\n",
    "data_full = data_full.iloc[1:,]\n",
    "data_full.head()"
   ]
  },
  {
   "cell_type": "markdown",
   "metadata": {},
   "source": [
    "Noticed that few fileds under Borough are not assigned. Hence we Remove all the Borough which are holding the value <b> \"Not assigned\" </b>"
   ]
  },
  {
   "cell_type": "code",
   "execution_count": 7,
   "metadata": {
    "scrolled": true
   },
   "outputs": [
    {
     "data": {
      "text/html": [
       "<div>\n",
       "<style scoped>\n",
       "    .dataframe tbody tr th:only-of-type {\n",
       "        vertical-align: middle;\n",
       "    }\n",
       "\n",
       "    .dataframe tbody tr th {\n",
       "        vertical-align: top;\n",
       "    }\n",
       "\n",
       "    .dataframe thead th {\n",
       "        text-align: right;\n",
       "    }\n",
       "</style>\n",
       "<table border=\"1\" class=\"dataframe\">\n",
       "  <thead>\n",
       "    <tr style=\"text-align: right;\">\n",
       "      <th></th>\n",
       "      <th>Postcode</th>\n",
       "      <th>Borough</th>\n",
       "      <th>Neighbourhood</th>\n",
       "    </tr>\n",
       "  </thead>\n",
       "  <tbody>\n",
       "    <tr>\n",
       "      <th>0</th>\n",
       "      <td>M3A</td>\n",
       "      <td>North York</td>\n",
       "      <td>Parkwoods</td>\n",
       "    </tr>\n",
       "    <tr>\n",
       "      <th>1</th>\n",
       "      <td>M4A</td>\n",
       "      <td>North York</td>\n",
       "      <td>Victoria Village</td>\n",
       "    </tr>\n",
       "    <tr>\n",
       "      <th>2</th>\n",
       "      <td>M5A</td>\n",
       "      <td>Downtown Toronto</td>\n",
       "      <td>Harbourfront</td>\n",
       "    </tr>\n",
       "    <tr>\n",
       "      <th>3</th>\n",
       "      <td>M5A</td>\n",
       "      <td>Downtown Toronto</td>\n",
       "      <td>Regent Park</td>\n",
       "    </tr>\n",
       "    <tr>\n",
       "      <th>4</th>\n",
       "      <td>M6A</td>\n",
       "      <td>North York</td>\n",
       "      <td>Lawrence Heights</td>\n",
       "    </tr>\n",
       "    <tr>\n",
       "      <th>5</th>\n",
       "      <td>M6A</td>\n",
       "      <td>North York</td>\n",
       "      <td>Lawrence Manor</td>\n",
       "    </tr>\n",
       "    <tr>\n",
       "      <th>6</th>\n",
       "      <td>M7A</td>\n",
       "      <td>Queen's Park</td>\n",
       "      <td>Not assigned</td>\n",
       "    </tr>\n",
       "    <tr>\n",
       "      <th>7</th>\n",
       "      <td>M9A</td>\n",
       "      <td>Etobicoke</td>\n",
       "      <td>Islington Avenue</td>\n",
       "    </tr>\n",
       "  </tbody>\n",
       "</table>\n",
       "</div>"
      ],
      "text/plain": [
       "  Postcode           Borough     Neighbourhood\n",
       "0      M3A        North York         Parkwoods\n",
       "1      M4A        North York  Victoria Village\n",
       "2      M5A  Downtown Toronto      Harbourfront\n",
       "3      M5A  Downtown Toronto       Regent Park\n",
       "4      M6A        North York  Lawrence Heights\n",
       "5      M6A        North York    Lawrence Manor\n",
       "6      M7A      Queen's Park      Not assigned\n",
       "7      M9A         Etobicoke  Islington Avenue"
      ]
     },
     "execution_count": 7,
     "metadata": {},
     "output_type": "execute_result"
    }
   ],
   "source": [
    "data_full = data_full[data_full.Borough != 'Not assigned']\n",
    "data_full.reset_index(inplace=True)\n",
    "data_full.head(8)"
   ]
  },
  {
   "cell_type": "markdown",
   "metadata": {},
   "source": [
    "Replace all the Neighbourhood which are <b> \"Not assigned\" </b> to the Borough values"
   ]
  },
  {
   "cell_type": "code",
   "execution_count": 8,
   "metadata": {},
   "outputs": [],
   "source": [
    "i = 1;\n",
    "for i, row in data_full.iterrows():    \n",
    "    if data_full['Neighbourhood'].values[i] == 'Not assigned':\n",
    "        data_full['Neighbourhood'].values[i] = data_full['Borough'].values[i]     "
   ]
  },
  {
   "cell_type": "markdown",
   "metadata": {},
   "source": [
    "Let's group the dataset according to the Postcode. Add the Neighbourhood field."
   ]
  },
  {
   "cell_type": "code",
   "execution_count": 9,
   "metadata": {},
   "outputs": [
    {
     "data": {
      "text/html": [
       "<div>\n",
       "<style scoped>\n",
       "    .dataframe tbody tr th:only-of-type {\n",
       "        vertical-align: middle;\n",
       "    }\n",
       "\n",
       "    .dataframe tbody tr th {\n",
       "        vertical-align: top;\n",
       "    }\n",
       "\n",
       "    .dataframe thead th {\n",
       "        text-align: right;\n",
       "    }\n",
       "</style>\n",
       "<table border=\"1\" class=\"dataframe\">\n",
       "  <thead>\n",
       "    <tr style=\"text-align: right;\">\n",
       "      <th></th>\n",
       "      <th>Postcode</th>\n",
       "      <th>Borough</th>\n",
       "      <th>Neighbourhood</th>\n",
       "    </tr>\n",
       "  </thead>\n",
       "  <tbody>\n",
       "    <tr>\n",
       "      <th>0</th>\n",
       "      <td>M1B</td>\n",
       "      <td>Scarborough</td>\n",
       "      <td>Rouge, Malvern</td>\n",
       "    </tr>\n",
       "    <tr>\n",
       "      <th>1</th>\n",
       "      <td>M1C</td>\n",
       "      <td>Scarborough</td>\n",
       "      <td>Highland Creek, Rouge Hill, Port Union</td>\n",
       "    </tr>\n",
       "    <tr>\n",
       "      <th>2</th>\n",
       "      <td>M1E</td>\n",
       "      <td>Scarborough</td>\n",
       "      <td>Guildwood, Morningside, West Hill</td>\n",
       "    </tr>\n",
       "    <tr>\n",
       "      <th>3</th>\n",
       "      <td>M1G</td>\n",
       "      <td>Scarborough</td>\n",
       "      <td>Woburn</td>\n",
       "    </tr>\n",
       "    <tr>\n",
       "      <th>4</th>\n",
       "      <td>M1H</td>\n",
       "      <td>Scarborough</td>\n",
       "      <td>Cedarbrae</td>\n",
       "    </tr>\n",
       "  </tbody>\n",
       "</table>\n",
       "</div>"
      ],
      "text/plain": [
       "  Postcode      Borough                           Neighbourhood\n",
       "0      M1B  Scarborough                          Rouge, Malvern\n",
       "1      M1C  Scarborough  Highland Creek, Rouge Hill, Port Union\n",
       "2      M1E  Scarborough       Guildwood, Morningside, West Hill\n",
       "3      M1G  Scarborough                                  Woburn\n",
       "4      M1H  Scarborough                               Cedarbrae"
      ]
     },
     "execution_count": 9,
     "metadata": {},
     "output_type": "execute_result"
    }
   ],
   "source": [
    "Series_stage2 = data_full.groupby(['Postcode','Borough'], as_index=True)['Neighbourhood'].apply(lambda x: \"%s\" % ', '.join(x))\n",
    "data_stage2 = Series_stage2.to_frame()\n",
    "data_stage2.reset_index(inplace=True)\n",
    "data_stage2.head()"
   ]
  },
  {
   "cell_type": "markdown",
   "metadata": {},
   "source": [
    "Now Let's check the size of the dataframe"
   ]
  },
  {
   "cell_type": "code",
   "execution_count": 10,
   "metadata": {},
   "outputs": [
    {
     "data": {
      "text/plain": [
       "(103, 3)"
      ]
     },
     "execution_count": 10,
     "metadata": {},
     "output_type": "execute_result"
    }
   ],
   "source": [
    "data_stage2.shape"
   ]
  },
  {
   "cell_type": "markdown",
   "metadata": {},
   "source": [
    "### 3. Joining the location cordinates "
   ]
  },
  {
   "cell_type": "markdown",
   "metadata": {},
   "source": [
    "The geocoder package is not working correctly, hence going for the alternate approach by using a csv file with location details. The file is available in the following path https://cocl.us/Geospatial_data. "
   ]
  },
  {
   "cell_type": "code",
   "execution_count": 11,
   "metadata": {},
   "outputs": [
    {
     "name": "stdout",
     "output_type": "stream",
     "text": [
      "--2019-05-09 07:13:14--  https://cocl.us/Geospatial_data\n",
      "Resolving cocl.us (cocl.us)... 169.48.113.201\n",
      "Connecting to cocl.us (cocl.us)|169.48.113.201|:443... connected.\n",
      "HTTP request sent, awaiting response... 301 Moved Permanently\n",
      "Location: https://ibm.box.com/shared/static/9afzr83pps4pwf2smjjcf1y5mvgb18rr.csv [following]\n",
      "--2019-05-09 07:13:15--  https://ibm.box.com/shared/static/9afzr83pps4pwf2smjjcf1y5mvgb18rr.csv\n",
      "Resolving ibm.box.com (ibm.box.com)... 107.152.27.197\n",
      "Connecting to ibm.box.com (ibm.box.com)|107.152.27.197|:443... connected.\n",
      "HTTP request sent, awaiting response... 301 Moved Permanently\n",
      "Location: /public/static/9afzr83pps4pwf2smjjcf1y5mvgb18rr.csv [following]\n",
      "--2019-05-09 07:13:15--  https://ibm.box.com/public/static/9afzr83pps4pwf2smjjcf1y5mvgb18rr.csv\n",
      "Reusing existing connection to ibm.box.com:443.\n",
      "HTTP request sent, awaiting response... 301 Moved Permanently\n",
      "Location: https://ibm.ent.box.com/public/static/9afzr83pps4pwf2smjjcf1y5mvgb18rr.csv [following]\n",
      "--2019-05-09 07:13:15--  https://ibm.ent.box.com/public/static/9afzr83pps4pwf2smjjcf1y5mvgb18rr.csv\n",
      "Resolving ibm.ent.box.com (ibm.ent.box.com)... 107.152.26.211\n",
      "Connecting to ibm.ent.box.com (ibm.ent.box.com)|107.152.26.211|:443... connected.\n",
      "HTTP request sent, awaiting response... 302 Found\n",
      "Location: https://public.boxcloud.com/d/1/b1!5Jaq_nYpmQ-B4mV2fCCANKjomEoVORP20ET4cAhpRweUgZVDllNv7gHg3_l_qLkkKOZiC2D6_IAgWdg8Aw7D4pAlZMrYsaYt_gGKN4N5QJCQ1S40GQ1l2Cao15MY0AGXTRZfDBA-yjz4ijKhTwRIcJP5ei_ZNhGEMfu7OK0BUhYxoLteSi-5BVbXd2QCUgdcsUMt3wcHQJa0pvoMtke_Yu3i53CT-uRkJ3ZDgMPO_0qNWf_KkLbzYoDG-M446vZGulAEm7owe8VR4L1hcsvWTQevgqegSyvPbd01jNp7RANf3CYs8x7MZcrPpykXIp12MdpwRfoJ1fbu8QGgQTgJRX9EFWFeHCnPap6GjD1a88V9x-P7rl6-uwFxjy4hdXAqJNrwxXVSA0ve0hcT9eRTh9_l8oFj61-1thGPwWjsh1mWgjF5jnOIsx9dN4N3zSLdBXBtZ9NlXdkFCIO8X9zh3ITyB9DojvLaFZMCe-GX7WLC8b102fnliYL5tOoJA-ozCiziBAzNE1H1HS40QXX44amIko5nxrcupyUwlKiwsF9T8CM8Mo2Ppqe8cprNuLUJjS-WAxTtv5WKNCN6G9LrYWPzDlbvZr7FKR-UtSQV7iblhHi_icNQzHjLSWMX4EF27_AWI8GHsseddIgNjg-FvM84X5ihSg-nxoouBTdCpgQ-86EDgBt3ykZPT8CtsXIoxwc8vJKOdMudWWjAjzNLWtajBySO3hJfAIim9pl4Odj8uqlAgfhW17i-WPeAkaLEajBINhemR4_nECNvhvy2dbLCV-M08lovuGJEJOs36YP72bRf9qBWmg6GUGucGLYAJOkwjzUcx2LjDcV1soE6bHuQn5eeMjQLeVU45f7vnU8YF0WoampXxWoQY6BMPJgXKG2GDQOyVDJU4fsCT-2tRO2lBdEdeCXRrFINSkXTnoTO3KPXSn13jX4Pt0PFktP5sF7xpwwSd7RfSDWHlUUJyaGznqULZWxFV3P3g12qySc9j_hDYFkhCIyKRaqQJmWExzFM0nc49Rd2K7kUnfFu-VMVbRzseJM-QFEyKmw0tpYX7r1LiNhUwPXUoX_cz2zDrGziFIKSdm-0XXfM0IqMFsjLkmWMyVGOo0HMgZnA6IoqgtFLqIY8e6k4VUL1K9rerLCuf6Ry9yTIPDW5YwwhnMzbl8zqNoThYuYLjlQtPP-9X3foQMT-LE2wVjRhrPs-AvUqg4E6M2PckBD5FVXfRUeosXVDuTUYqizhxszsJ4zzh3jcUTEwZKiQzZK-oqRYsqn5ehefuuPZKqyIqd7BdWt_b9wl7_3Voo9ufJTFi8-x0N3y2JQDC4fqFHHQ9bnLhWDZGM8vXD4F-rKks7-5NY7fkjmz7FCQW4yoqiQBDs7kPfHB5l0uVw../download [following]\n",
      "--2019-05-09 07:13:16--  https://public.boxcloud.com/d/1/b1!5Jaq_nYpmQ-B4mV2fCCANKjomEoVORP20ET4cAhpRweUgZVDllNv7gHg3_l_qLkkKOZiC2D6_IAgWdg8Aw7D4pAlZMrYsaYt_gGKN4N5QJCQ1S40GQ1l2Cao15MY0AGXTRZfDBA-yjz4ijKhTwRIcJP5ei_ZNhGEMfu7OK0BUhYxoLteSi-5BVbXd2QCUgdcsUMt3wcHQJa0pvoMtke_Yu3i53CT-uRkJ3ZDgMPO_0qNWf_KkLbzYoDG-M446vZGulAEm7owe8VR4L1hcsvWTQevgqegSyvPbd01jNp7RANf3CYs8x7MZcrPpykXIp12MdpwRfoJ1fbu8QGgQTgJRX9EFWFeHCnPap6GjD1a88V9x-P7rl6-uwFxjy4hdXAqJNrwxXVSA0ve0hcT9eRTh9_l8oFj61-1thGPwWjsh1mWgjF5jnOIsx9dN4N3zSLdBXBtZ9NlXdkFCIO8X9zh3ITyB9DojvLaFZMCe-GX7WLC8b102fnliYL5tOoJA-ozCiziBAzNE1H1HS40QXX44amIko5nxrcupyUwlKiwsF9T8CM8Mo2Ppqe8cprNuLUJjS-WAxTtv5WKNCN6G9LrYWPzDlbvZr7FKR-UtSQV7iblhHi_icNQzHjLSWMX4EF27_AWI8GHsseddIgNjg-FvM84X5ihSg-nxoouBTdCpgQ-86EDgBt3ykZPT8CtsXIoxwc8vJKOdMudWWjAjzNLWtajBySO3hJfAIim9pl4Odj8uqlAgfhW17i-WPeAkaLEajBINhemR4_nECNvhvy2dbLCV-M08lovuGJEJOs36YP72bRf9qBWmg6GUGucGLYAJOkwjzUcx2LjDcV1soE6bHuQn5eeMjQLeVU45f7vnU8YF0WoampXxWoQY6BMPJgXKG2GDQOyVDJU4fsCT-2tRO2lBdEdeCXRrFINSkXTnoTO3KPXSn13jX4Pt0PFktP5sF7xpwwSd7RfSDWHlUUJyaGznqULZWxFV3P3g12qySc9j_hDYFkhCIyKRaqQJmWExzFM0nc49Rd2K7kUnfFu-VMVbRzseJM-QFEyKmw0tpYX7r1LiNhUwPXUoX_cz2zDrGziFIKSdm-0XXfM0IqMFsjLkmWMyVGOo0HMgZnA6IoqgtFLqIY8e6k4VUL1K9rerLCuf6Ry9yTIPDW5YwwhnMzbl8zqNoThYuYLjlQtPP-9X3foQMT-LE2wVjRhrPs-AvUqg4E6M2PckBD5FVXfRUeosXVDuTUYqizhxszsJ4zzh3jcUTEwZKiQzZK-oqRYsqn5ehefuuPZKqyIqd7BdWt_b9wl7_3Voo9ufJTFi8-x0N3y2JQDC4fqFHHQ9bnLhWDZGM8vXD4F-rKks7-5NY7fkjmz7FCQW4yoqiQBDs7kPfHB5l0uVw../download\n",
      "Resolving public.boxcloud.com (public.boxcloud.com)... 107.152.26.200\n",
      "Connecting to public.boxcloud.com (public.boxcloud.com)|107.152.26.200|:443... connected.\n",
      "HTTP request sent, awaiting response... 200 OK\n",
      "Length: 2891 (2.8K) [text/csv]\n",
      "Saving to: ‘geo_data.csv’\n",
      "\n",
      "100%[======================================>] 2,891       --.-K/s   in 0s      \n",
      "\n",
      "2019-05-09 07:13:21 (438 MB/s) - ‘geo_data.csv’ saved [2891/2891]\n",
      "\n"
     ]
    }
   ],
   "source": [
    "!wget -O geo_data.csv https://cocl.us/Geospatial_data"
   ]
  },
  {
   "cell_type": "markdown",
   "metadata": {},
   "source": [
    "Now let's read the csv file to a data frame and set the index for the data frame"
   ]
  },
  {
   "cell_type": "code",
   "execution_count": 18,
   "metadata": {},
   "outputs": [
    {
     "data": {
      "text/html": [
       "<div>\n",
       "<style scoped>\n",
       "    .dataframe tbody tr th:only-of-type {\n",
       "        vertical-align: middle;\n",
       "    }\n",
       "\n",
       "    .dataframe tbody tr th {\n",
       "        vertical-align: top;\n",
       "    }\n",
       "\n",
       "    .dataframe thead th {\n",
       "        text-align: right;\n",
       "    }\n",
       "</style>\n",
       "<table border=\"1\" class=\"dataframe\">\n",
       "  <thead>\n",
       "    <tr style=\"text-align: right;\">\n",
       "      <th></th>\n",
       "      <th>Latitude</th>\n",
       "      <th>Longitude</th>\n",
       "    </tr>\n",
       "    <tr>\n",
       "      <th>Postal Code</th>\n",
       "      <th></th>\n",
       "      <th></th>\n",
       "    </tr>\n",
       "  </thead>\n",
       "  <tbody>\n",
       "    <tr>\n",
       "      <th>M1B</th>\n",
       "      <td>43.806686</td>\n",
       "      <td>-79.194353</td>\n",
       "    </tr>\n",
       "    <tr>\n",
       "      <th>M1C</th>\n",
       "      <td>43.784535</td>\n",
       "      <td>-79.160497</td>\n",
       "    </tr>\n",
       "    <tr>\n",
       "      <th>M1E</th>\n",
       "      <td>43.763573</td>\n",
       "      <td>-79.188711</td>\n",
       "    </tr>\n",
       "    <tr>\n",
       "      <th>M1G</th>\n",
       "      <td>43.770992</td>\n",
       "      <td>-79.216917</td>\n",
       "    </tr>\n",
       "    <tr>\n",
       "      <th>M1H</th>\n",
       "      <td>43.773136</td>\n",
       "      <td>-79.239476</td>\n",
       "    </tr>\n",
       "  </tbody>\n",
       "</table>\n",
       "</div>"
      ],
      "text/plain": [
       "              Latitude  Longitude\n",
       "Postal Code                      \n",
       "M1B          43.806686 -79.194353\n",
       "M1C          43.784535 -79.160497\n",
       "M1E          43.763573 -79.188711\n",
       "M1G          43.770992 -79.216917\n",
       "M1H          43.773136 -79.239476"
      ]
     },
     "execution_count": 18,
     "metadata": {},
     "output_type": "execute_result"
    }
   ],
   "source": [
    "df_geo = pd.read_csv('geo_data.csv')\n",
    "df_geo.set_index(\"Postal Code\",inplace=True)\n",
    "df_geo.head()"
   ]
  },
  {
   "cell_type": "markdown",
   "metadata": {},
   "source": [
    "Joining the dataframes together based on the indexes."
   ]
  },
  {
   "cell_type": "code",
   "execution_count": 14,
   "metadata": {},
   "outputs": [],
   "source": [
    "data_stage2.set_index(\"Postcode\",inplace=True)\n",
    "result = pd.concat([data_stage2, df_geo], axis=1, join_axes=[data_stage2.index])"
   ]
  },
  {
   "cell_type": "code",
   "execution_count": 15,
   "metadata": {},
   "outputs": [],
   "source": [
    "result.reset_index(inplace=True)"
   ]
  },
  {
   "cell_type": "code",
   "execution_count": 16,
   "metadata": {},
   "outputs": [
    {
     "data": {
      "text/html": [
       "<div>\n",
       "<style scoped>\n",
       "    .dataframe tbody tr th:only-of-type {\n",
       "        vertical-align: middle;\n",
       "    }\n",
       "\n",
       "    .dataframe tbody tr th {\n",
       "        vertical-align: top;\n",
       "    }\n",
       "\n",
       "    .dataframe thead th {\n",
       "        text-align: right;\n",
       "    }\n",
       "</style>\n",
       "<table border=\"1\" class=\"dataframe\">\n",
       "  <thead>\n",
       "    <tr style=\"text-align: right;\">\n",
       "      <th></th>\n",
       "      <th>Postcode</th>\n",
       "      <th>Borough</th>\n",
       "      <th>Neighbourhood</th>\n",
       "      <th>Latitude</th>\n",
       "      <th>Longitude</th>\n",
       "    </tr>\n",
       "  </thead>\n",
       "  <tbody>\n",
       "    <tr>\n",
       "      <th>0</th>\n",
       "      <td>M1B</td>\n",
       "      <td>Scarborough</td>\n",
       "      <td>Rouge, Malvern</td>\n",
       "      <td>43.806686</td>\n",
       "      <td>-79.194353</td>\n",
       "    </tr>\n",
       "    <tr>\n",
       "      <th>1</th>\n",
       "      <td>M1C</td>\n",
       "      <td>Scarborough</td>\n",
       "      <td>Highland Creek, Rouge Hill, Port Union</td>\n",
       "      <td>43.784535</td>\n",
       "      <td>-79.160497</td>\n",
       "    </tr>\n",
       "    <tr>\n",
       "      <th>2</th>\n",
       "      <td>M1E</td>\n",
       "      <td>Scarborough</td>\n",
       "      <td>Guildwood, Morningside, West Hill</td>\n",
       "      <td>43.763573</td>\n",
       "      <td>-79.188711</td>\n",
       "    </tr>\n",
       "    <tr>\n",
       "      <th>3</th>\n",
       "      <td>M1G</td>\n",
       "      <td>Scarborough</td>\n",
       "      <td>Woburn</td>\n",
       "      <td>43.770992</td>\n",
       "      <td>-79.216917</td>\n",
       "    </tr>\n",
       "    <tr>\n",
       "      <th>4</th>\n",
       "      <td>M1H</td>\n",
       "      <td>Scarborough</td>\n",
       "      <td>Cedarbrae</td>\n",
       "      <td>43.773136</td>\n",
       "      <td>-79.239476</td>\n",
       "    </tr>\n",
       "  </tbody>\n",
       "</table>\n",
       "</div>"
      ],
      "text/plain": [
       "  Postcode      Borough                           Neighbourhood   Latitude  \\\n",
       "0      M1B  Scarborough                          Rouge, Malvern  43.806686   \n",
       "1      M1C  Scarborough  Highland Creek, Rouge Hill, Port Union  43.784535   \n",
       "2      M1E  Scarborough       Guildwood, Morningside, West Hill  43.763573   \n",
       "3      M1G  Scarborough                                  Woburn  43.770992   \n",
       "4      M1H  Scarborough                               Cedarbrae  43.773136   \n",
       "\n",
       "   Longitude  \n",
       "0 -79.194353  \n",
       "1 -79.160497  \n",
       "2 -79.188711  \n",
       "3 -79.216917  \n",
       "4 -79.239476  "
      ]
     },
     "execution_count": 16,
     "metadata": {},
     "output_type": "execute_result"
    }
   ],
   "source": [
    "result.head()"
   ]
  },
  {
   "cell_type": "code",
   "execution_count": null,
   "metadata": {},
   "outputs": [],
   "source": []
  }
 ],
 "metadata": {
  "kernelspec": {
   "display_name": "Python 3.5",
   "language": "python",
   "name": "python3"
  },
  "language_info": {
   "codemirror_mode": {
    "name": "ipython",
    "version": 3
   },
   "file_extension": ".py",
   "mimetype": "text/x-python",
   "name": "python",
   "nbconvert_exporter": "python",
   "pygments_lexer": "ipython3",
   "version": "3.5.5"
  }
 },
 "nbformat": 4,
 "nbformat_minor": 1
}
